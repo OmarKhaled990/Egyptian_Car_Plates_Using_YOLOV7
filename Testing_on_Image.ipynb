{
  "nbformat": 4,
  "nbformat_minor": 0,
  "metadata": {
    "colab": {
      "provenance": []
    },
    "kernelspec": {
      "name": "python3",
      "display_name": "Python 3"
    },
    "language_info": {
      "name": "python"
    }
  },
  "cells": [
    {
      "cell_type": "code",
      "execution_count": null,
      "metadata": {
        "id": "GmBgdKehl6FH",
        "colab": {
          "base_uri": "https://localhost:8080/",
          "height": 711
        },
        "outputId": "54f56e4a-daf4-4c59-8bd8-cb0dc2db3559"
      },
      "outputs": [
        {
          "output_type": "stream",
          "name": "stdout",
          "text": [
            "Looking in indexes: https://pypi.org/simple, https://us-python.pkg.dev/colab-wheels/public/simple/\n",
            "Requirement already satisfied: pydotplus in /usr/local/lib/python3.8/dist-packages (2.0.2)\n",
            "Requirement already satisfied: pyparsing>=2.0.1 in /usr/local/lib/python3.8/dist-packages (from pydotplus) (3.0.9)\n",
            "Looking in indexes: https://pypi.org/simple, https://us-python.pkg.dev/colab-wheels/public/simple/\n",
            "Collecting gTTS\n",
            "  Downloading gTTS-2.3.0-py3-none-any.whl (26 kB)\n",
            "Collecting requests~=2.28.0\n",
            "  Downloading requests-2.28.1-py3-none-any.whl (62 kB)\n",
            "\u001b[K     |████████████████████████████████| 62 kB 1.1 MB/s \n",
            "\u001b[?25hCollecting six~=1.16.0\n",
            "  Downloading six-1.16.0-py2.py3-none-any.whl (11 kB)\n",
            "Collecting click~=8.1.3\n",
            "  Downloading click-8.1.3-py3-none-any.whl (96 kB)\n",
            "\u001b[K     |████████████████████████████████| 96 kB 4.3 MB/s \n",
            "\u001b[?25hRequirement already satisfied: charset-normalizer<3,>=2 in /usr/local/lib/python3.8/dist-packages (from requests~=2.28.0->gTTS) (2.1.1)\n",
            "Requirement already satisfied: certifi>=2017.4.17 in /usr/local/lib/python3.8/dist-packages (from requests~=2.28.0->gTTS) (2022.12.7)\n",
            "Requirement already satisfied: idna<4,>=2.5 in /usr/local/lib/python3.8/dist-packages (from requests~=2.28.0->gTTS) (2.10)\n",
            "Requirement already satisfied: urllib3<1.27,>=1.21.1 in /usr/local/lib/python3.8/dist-packages (from requests~=2.28.0->gTTS) (1.24.3)\n",
            "Installing collected packages: six, requests, click, gTTS\n",
            "  Attempting uninstall: six\n",
            "    Found existing installation: six 1.15.0\n",
            "    Uninstalling six-1.15.0:\n",
            "      Successfully uninstalled six-1.15.0\n",
            "  Attempting uninstall: requests\n",
            "    Found existing installation: requests 2.23.0\n",
            "    Uninstalling requests-2.23.0:\n",
            "      Successfully uninstalled requests-2.23.0\n",
            "  Attempting uninstall: click\n",
            "    Found existing installation: click 7.1.2\n",
            "    Uninstalling click-7.1.2:\n",
            "      Successfully uninstalled click-7.1.2\n",
            "\u001b[31mERROR: pip's dependency resolver does not currently take into account all the packages that are installed. This behaviour is the source of the following dependency conflicts.\n",
            "ipython 7.9.0 requires jedi>=0.10, which is not installed.\n",
            "flask 1.1.4 requires click<8.0,>=5.1, but you have click 8.1.3 which is incompatible.\u001b[0m\n",
            "Successfully installed click-8.1.3 gTTS-2.3.0 requests-2.28.1 six-1.16.0\n"
          ]
        },
        {
          "output_type": "display_data",
          "data": {
            "application/vnd.colab-display-data+json": {
              "pip_warning": {
                "packages": [
                  "six"
                ]
              }
            }
          },
          "metadata": {}
        }
      ],
      "source": [
        "!pip install pydotplus\n",
        "!pip install gTTS\n",
        "import matplotlib.pyplot as plt\n",
        "import pydotplus\n",
        "from IPython.display import display, Image\n",
        "import matplotlib.pyplot as plt\n",
        "from gtts import gTTS\n",
        "import IPython.display as ipd\n",
        "from requests import get  # to make GET request"
      ]
    },
    {
      "cell_type": "code",
      "source": [
        "!pip install roboflow\n",
        "\n",
        "from roboflow import Roboflow\n",
        "rf = Roboflow(api_key=\"GEmyku3lcfnR5MjWDq61\")\n",
        "project = rf.workspace(\"ya3333\").project(\"egypt-tswlf\")\n",
        "dataset = project.version(1).download(\"yolov7\")"
      ],
      "metadata": {
        "id": "sU-BKoC1l9xU",
        "colab": {
          "base_uri": "https://localhost:8080/",
          "height": 1000
        },
        "outputId": "97b2144d-65c4-4524-8afb-a4da7431a998"
      },
      "execution_count": null,
      "outputs": [
        {
          "output_type": "stream",
          "name": "stdout",
          "text": [
            "Looking in indexes: https://pypi.org/simple, https://us-python.pkg.dev/colab-wheels/public/simple/\n",
            "Collecting roboflow\n",
            "  Downloading roboflow-0.2.21-py3-none-any.whl (42 kB)\n",
            "\u001b[K     |████████████████████████████████| 42 kB 591 kB/s \n",
            "\u001b[?25hRequirement already satisfied: PyYAML>=5.3.1 in /usr/local/lib/python3.8/dist-packages (from roboflow) (6.0)\n",
            "Collecting cycler==0.10.0\n",
            "  Downloading cycler-0.10.0-py2.py3-none-any.whl (6.5 kB)\n",
            "Requirement already satisfied: Pillow>=7.1.2 in /usr/local/lib/python3.8/dist-packages (from roboflow) (7.1.2)\n",
            "Requirement already satisfied: requests in /usr/local/lib/python3.8/dist-packages (from roboflow) (2.28.1)\n",
            "Requirement already satisfied: matplotlib in /usr/local/lib/python3.8/dist-packages (from roboflow) (3.2.2)\n",
            "Requirement already satisfied: numpy>=1.18.5 in /usr/local/lib/python3.8/dist-packages (from roboflow) (1.21.6)\n",
            "Requirement already satisfied: idna==2.10 in /usr/local/lib/python3.8/dist-packages (from roboflow) (2.10)\n",
            "Requirement already satisfied: glob2 in /usr/local/lib/python3.8/dist-packages (from roboflow) (0.7)\n",
            "Collecting pyparsing==2.4.7\n",
            "  Downloading pyparsing-2.4.7-py2.py3-none-any.whl (67 kB)\n",
            "\u001b[K     |████████████████████████████████| 67 kB 3.0 MB/s \n",
            "\u001b[?25hCollecting urllib3==1.26.6\n",
            "  Downloading urllib3-1.26.6-py2.py3-none-any.whl (138 kB)\n",
            "\u001b[K     |████████████████████████████████| 138 kB 33.4 MB/s \n",
            "\u001b[?25hRequirement already satisfied: kiwisolver>=1.3.1 in /usr/local/lib/python3.8/dist-packages (from roboflow) (1.4.4)\n",
            "Collecting wget\n",
            "  Downloading wget-3.2.zip (10 kB)\n",
            "Requirement already satisfied: opencv-python-headless>=4.5.1.48 in /usr/local/lib/python3.8/dist-packages (from roboflow) (4.6.0.66)\n",
            "Collecting chardet==4.0.0\n",
            "  Downloading chardet-4.0.0-py2.py3-none-any.whl (178 kB)\n",
            "\u001b[K     |████████████████████████████████| 178 kB 42.4 MB/s \n",
            "\u001b[?25hCollecting python-dotenv\n",
            "  Downloading python_dotenv-0.21.0-py3-none-any.whl (18 kB)\n",
            "Requirement already satisfied: six in /usr/local/lib/python3.8/dist-packages (from roboflow) (1.16.0)\n",
            "Requirement already satisfied: python-dateutil in /usr/local/lib/python3.8/dist-packages (from roboflow) (2.8.2)\n",
            "Collecting requests-toolbelt\n",
            "  Downloading requests_toolbelt-0.10.1-py2.py3-none-any.whl (54 kB)\n",
            "\u001b[K     |████████████████████████████████| 54 kB 2.8 MB/s \n",
            "\u001b[?25hRequirement already satisfied: tqdm>=4.41.0 in /usr/local/lib/python3.8/dist-packages (from roboflow) (4.64.1)\n",
            "Collecting certifi==2021.5.30\n",
            "  Downloading certifi-2021.5.30-py2.py3-none-any.whl (145 kB)\n",
            "\u001b[K     |████████████████████████████████| 145 kB 59.1 MB/s \n",
            "\u001b[?25hRequirement already satisfied: charset-normalizer<3,>=2 in /usr/local/lib/python3.8/dist-packages (from requests->roboflow) (2.1.1)\n",
            "Building wheels for collected packages: wget\n",
            "  Building wheel for wget (setup.py) ... \u001b[?25l\u001b[?25hdone\n",
            "  Created wheel for wget: filename=wget-3.2-py3-none-any.whl size=9674 sha256=adbc89186ce69acac77706ccaded4859ca188f3b6f6d72571a8354f276a1918f\n",
            "  Stored in directory: /root/.cache/pip/wheels/bd/a8/c3/3cf2c14a1837a4e04bd98631724e81f33f462d86a1d895fae0\n",
            "Successfully built wget\n",
            "Installing collected packages: urllib3, certifi, pyparsing, cycler, wget, requests-toolbelt, python-dotenv, chardet, roboflow\n",
            "  Attempting uninstall: urllib3\n",
            "    Found existing installation: urllib3 1.24.3\n",
            "    Uninstalling urllib3-1.24.3:\n",
            "      Successfully uninstalled urllib3-1.24.3\n",
            "  Attempting uninstall: certifi\n",
            "    Found existing installation: certifi 2022.12.7\n",
            "    Uninstalling certifi-2022.12.7:\n",
            "      Successfully uninstalled certifi-2022.12.7\n",
            "  Attempting uninstall: pyparsing\n",
            "    Found existing installation: pyparsing 3.0.9\n",
            "    Uninstalling pyparsing-3.0.9:\n",
            "      Successfully uninstalled pyparsing-3.0.9\n",
            "  Attempting uninstall: cycler\n",
            "    Found existing installation: cycler 0.11.0\n",
            "    Uninstalling cycler-0.11.0:\n",
            "      Successfully uninstalled cycler-0.11.0\n",
            "  Attempting uninstall: chardet\n",
            "    Found existing installation: chardet 3.0.4\n",
            "    Uninstalling chardet-3.0.4:\n",
            "      Successfully uninstalled chardet-3.0.4\n",
            "Successfully installed certifi-2021.5.30 chardet-4.0.0 cycler-0.10.0 pyparsing-2.4.7 python-dotenv-0.21.0 requests-toolbelt-0.10.1 roboflow-0.2.21 urllib3-1.26.6 wget-3.2\n"
          ]
        },
        {
          "output_type": "display_data",
          "data": {
            "application/vnd.colab-display-data+json": {
              "pip_warning": {
                "packages": [
                  "certifi",
                  "chardet",
                  "cycler",
                  "pyparsing",
                  "urllib3"
                ]
              }
            }
          },
          "metadata": {}
        },
        {
          "output_type": "stream",
          "name": "stdout",
          "text": [
            "loading Roboflow workspace...\n",
            "loading Roboflow project...\n",
            "Downloading Dataset Version Zip in egypt-1 to yolov7pytorch: 100% [82339573 / 82339573] bytes\n"
          ]
        },
        {
          "output_type": "stream",
          "name": "stderr",
          "text": [
            "Extracting Dataset Version Zip to egypt-1 in yolov7pytorch:: 100%|██████████| 2090/2090 [00:01<00:00, 2081.93it/s]\n"
          ]
        }
      ]
    },
    {
      "cell_type": "code",
      "source": [
        "model = project.version(1).model"
      ],
      "metadata": {
        "id": "Tf4ANSgrFVju"
      },
      "execution_count": null,
      "outputs": []
    },
    {
      "cell_type": "code",
      "source": [
        "import cv2\n",
        "img = cv2.imread(\"/content/pp.jpg\")"
      ],
      "metadata": {
        "id": "l-irqiQYFYrp"
      },
      "execution_count": null,
      "outputs": []
    },
    {
      "cell_type": "code",
      "source": [
        "img = cv2.resize(img, (512,512))"
      ],
      "metadata": {
        "id": "TXnkEhNHFYpC"
      },
      "execution_count": null,
      "outputs": []
    },
    {
      "cell_type": "code",
      "source": [
        "result = model.predict(img, confidence=50, overlap=50).json()"
      ],
      "metadata": {
        "colab": {
          "base_uri": "https://localhost:8080/"
        },
        "id": "Je-VYoW2FYmg",
        "outputId": "358e5466-c1df-49cf-90b1-82868d6a43b5"
      },
      "execution_count": null,
      "outputs": [
        {
          "output_type": "stream",
          "name": "stderr",
          "text": [
            "elementwise comparison failed; returning scalar instead, but in the future will perform elementwise comparison\n"
          ]
        }
      ]
    },
    {
      "cell_type": "code",
      "source": [
        "predictions = result[\"predictions\"][0]\n",
        "output_img = predictions[\"image_path\"]\n",
        "x,y,w,h = predictions[\"x\"], predictions[\"y\"], predictions[\"width\"], predictions[\"height\"]"
      ],
      "metadata": {
        "id": "gj5GzOEMFYkH"
      },
      "execution_count": null,
      "outputs": []
    },
    {
      "cell_type": "code",
      "source": [
        "result"
      ],
      "metadata": {
        "colab": {
          "base_uri": "https://localhost:8080/"
        },
        "id": "Sgo52biVG0mp",
        "outputId": "c7d55e53-e801-4aee-8a9c-1b82e2f49c7b"
      },
      "execution_count": null,
      "outputs": [
        {
          "output_type": "execute_result",
          "data": {
            "text/plain": [
              "{'predictions': [{'x': 292.0,\n",
              "   'y': 182.0,\n",
              "   'width': 150.0,\n",
              "   'height': 48.0,\n",
              "   'confidence': 0.87383633852005,\n",
              "   'class': 'plate',\n",
              "   'image_path': array([[[255, 255, 255],\n",
              "           [255, 255, 255],\n",
              "           [255, 255, 255],\n",
              "           ...,\n",
              "           [255, 255, 255],\n",
              "           [255, 255, 255],\n",
              "           [255, 255, 254]],\n",
              "   \n",
              "          [[255, 255, 255],\n",
              "           [255, 255, 255],\n",
              "           [255, 255, 255],\n",
              "           ...,\n",
              "           [255, 255, 255],\n",
              "           [255, 255, 255],\n",
              "           [255, 255, 254]],\n",
              "   \n",
              "          [[255, 255, 255],\n",
              "           [255, 255, 255],\n",
              "           [255, 255, 255],\n",
              "           ...,\n",
              "           [255, 255, 255],\n",
              "           [255, 255, 255],\n",
              "           [255, 255, 254]],\n",
              "   \n",
              "          ...,\n",
              "   \n",
              "          [[153, 177, 199],\n",
              "           [143, 167, 189],\n",
              "           [132, 156, 178],\n",
              "           ...,\n",
              "           [170, 190, 207],\n",
              "           [170, 190, 207],\n",
              "           [175, 195, 212]],\n",
              "   \n",
              "          [[126, 151, 171],\n",
              "           [123, 147, 167],\n",
              "           [139, 163, 183],\n",
              "           ...,\n",
              "           [175, 195, 212],\n",
              "           [175, 195, 212],\n",
              "           [173, 193, 210]],\n",
              "   \n",
              "          [[148, 172, 194],\n",
              "           [143, 167, 189],\n",
              "           [135, 159, 181],\n",
              "           ...,\n",
              "           [171, 191, 208],\n",
              "           [174, 194, 211],\n",
              "           [171, 191, 208]]], dtype=uint8),\n",
              "   'prediction_type': 'ObjectDetectionModel'}],\n",
              " 'image': {'width': 512, 'height': 512}}"
            ]
          },
          "metadata": {},
          "execution_count": 8
        }
      ]
    },
    {
      "cell_type": "code",
      "source": [
        "x1 = round(x - (w/2))\n",
        "y1 = round(y - (h/2))\n",
        "x2 = round(x + (w/2))\n",
        "y2 = round(y + (h/2))"
      ],
      "metadata": {
        "id": "rScHr5X5FYhK"
      },
      "execution_count": null,
      "outputs": []
    },
    {
      "cell_type": "code",
      "source": [
        "output_img = img[y1:y2, x1:x2]\n",
        "plt.imshow(output_img)"
      ],
      "metadata": {
        "colab": {
          "base_uri": "https://localhost:8080/",
          "height": 175
        },
        "id": "lK79SYY_FYdS",
        "outputId": "07b0dbaa-bcf8-4da9-c4e3-684c22d75e38"
      },
      "execution_count": null,
      "outputs": [
        {
          "output_type": "execute_result",
          "data": {
            "text/plain": [
              "<matplotlib.image.AxesImage at 0x7f03a17dadf0>"
            ]
          },
          "metadata": {},
          "execution_count": 10
        },
        {
          "output_type": "display_data",
          "data": {
            "text/plain": [
              "<Figure size 432x288 with 1 Axes>"
            ],
            "image/png": "[encoded data removed]"
          },
          "metadata": {
            "needs_background": "light"
          }
        }
      ]
    },
    {
      "cell_type": "code",
      "source": [
        "from roboflow import Roboflow\n",
        "rf2 = Roboflow(api_key=\"ZK8jie9hxh6VvLZAv5Gw\")\n",
        "project2 = rf2.workspace(\"letters\").project(\"letete\")\n",
        "dataset2 = project2.version(1).download(\"yolov7\")"
      ],
      "metadata": {
        "id": "H9FthU5xFYVR",
        "colab": {
          "base_uri": "https://localhost:8080/"
        },
        "outputId": "55384d01-dae8-44cd-ceba-2ac6f05eed60"
      },
      "execution_count": null,
      "outputs": [
        {
          "output_type": "stream",
          "name": "stdout",
          "text": [
            "loading Roboflow workspace...\n",
            "loading Roboflow project...\n",
            "Downloading Dataset Version Zip in letete-1 to yolov7pytorch: 100% [35266393 / 35266393] bytes\n"
          ]
        },
        {
          "output_type": "stream",
          "name": "stderr",
          "text": [
            "Extracting Dataset Version Zip to letete-1 in yolov7pytorch:: 100%|██████████| 1134/1134 [00:01<00:00, 750.50it/s] \n"
          ]
        }
      ]
    },
    {
      "cell_type": "code",
      "source": [
        "model2 = project2.version(1).model"
      ],
      "metadata": {
        "id": "ItaIFTNPeLnf"
      },
      "execution_count": null,
      "outputs": []
    },
    {
      "cell_type": "code",
      "source": [
        "img2 = output_img"
      ],
      "metadata": {
        "id": "s43heUqMeLkr"
      },
      "execution_count": null,
      "outputs": []
    },
    {
      "cell_type": "code",
      "source": [
        "img2 = cv2.resize(img2, (512,512))"
      ],
      "metadata": {
        "id": "ZkvuFV2reLiE"
      },
      "execution_count": null,
      "outputs": []
    },
    {
      "cell_type": "code",
      "source": [
        "result2 = model2.predict(img2, confidence=40, overlap=50).json()"
      ],
      "metadata": {
        "id": "3GjsWAVPeLfR"
      },
      "execution_count": null,
      "outputs": []
    },
    {
      "cell_type": "code",
      "source": [
        "predictions2 = result2[\"predictions\"][0]\n",
        "output_img2 = predictions2[\"image_path\"]\n",
        "x2,y2,w2,h2 = predictions2[\"x\"], predictions2[\"y\"], predictions2[\"width\"], predictions2[\"height\"]"
      ],
      "metadata": {
        "id": "vX7SN0HleLc6"
      },
      "execution_count": null,
      "outputs": []
    },
    {
      "cell_type": "code",
      "source": [
        "result2"
      ],
      "metadata": {
        "colab": {
          "base_uri": "https://localhost:8080/"
        },
        "id": "vog7bNFdeLad",
        "outputId": "bb31d783-ecf8-4bf0-c169-3434d081a096"
      },
      "execution_count": null,
      "outputs": [
        {
          "output_type": "execute_result",
          "data": {
            "text/plain": [
              "{'predictions': [{'x': 228.5,\n",
              "   'y': 340.5,\n",
              "   'width': 83.0,\n",
              "   'height': 211.0,\n",
              "   'confidence': 0.8451896905899048,\n",
              "   'class': '4',\n",
              "   'image_path': array([[[188, 184, 182],\n",
              "           [188, 184, 182],\n",
              "           [188, 184, 182],\n",
              "           ...,\n",
              "           [143, 126,  92],\n",
              "           [132, 114,  80],\n",
              "           [132, 114,  80]],\n",
              "   \n",
              "          [[188, 184, 182],\n",
              "           [188, 184, 182],\n",
              "           [188, 184, 182],\n",
              "           ...,\n",
              "           [143, 126,  92],\n",
              "           [132, 114,  80],\n",
              "           [132, 114,  80]],\n",
              "   \n",
              "          [[188, 184, 182],\n",
              "           [188, 184, 182],\n",
              "           [188, 184, 182],\n",
              "           ...,\n",
              "           [143, 126,  92],\n",
              "           [132, 114,  80],\n",
              "           [132, 114,  80]],\n",
              "   \n",
              "          ...,\n",
              "   \n",
              "          [[ 75,  66,  62],\n",
              "           [ 75,  66,  62],\n",
              "           [ 74,  65,  61],\n",
              "           ...,\n",
              "           [ 84,  76,  69],\n",
              "           [ 84,  76,  69],\n",
              "           [ 84,  76,  69]],\n",
              "   \n",
              "          [[ 75,  66,  62],\n",
              "           [ 75,  66,  62],\n",
              "           [ 74,  65,  61],\n",
              "           ...,\n",
              "           [ 84,  76,  69],\n",
              "           [ 84,  76,  69],\n",
              "           [ 84,  76,  69]],\n",
              "   \n",
              "          [[ 75,  66,  62],\n",
              "           [ 75,  66,  62],\n",
              "           [ 74,  65,  61],\n",
              "           ...,\n",
              "           [ 84,  76,  69],\n",
              "           [ 84,  76,  69],\n",
              "           [ 84,  76,  69]]], dtype=uint8),\n",
              "   'prediction_type': 'ObjectDetectionModel'},\n",
              "  {'x': 52.5,\n",
              "   'y': 359.0,\n",
              "   'width': 87.0,\n",
              "   'height': 162.0,\n",
              "   'confidence': 0.8499553203582764,\n",
              "   'class': '5',\n",
              "   'image_path': array([[[188, 184, 182],\n",
              "           [188, 184, 182],\n",
              "           [188, 184, 182],\n",
              "           ...,\n",
              "           [143, 126,  92],\n",
              "           [132, 114,  80],\n",
              "           [132, 114,  80]],\n",
              "   \n",
              "          [[188, 184, 182],\n",
              "           [188, 184, 182],\n",
              "           [188, 184, 182],\n",
              "           ...,\n",
              "           [143, 126,  92],\n",
              "           [132, 114,  80],\n",
              "           [132, 114,  80]],\n",
              "   \n",
              "          [[188, 184, 182],\n",
              "           [188, 184, 182],\n",
              "           [188, 184, 182],\n",
              "           ...,\n",
              "           [143, 126,  92],\n",
              "           [132, 114,  80],\n",
              "           [132, 114,  80]],\n",
              "   \n",
              "          ...,\n",
              "   \n",
              "          [[ 75,  66,  62],\n",
              "           [ 75,  66,  62],\n",
              "           [ 74,  65,  61],\n",
              "           ...,\n",
              "           [ 84,  76,  69],\n",
              "           [ 84,  76,  69],\n",
              "           [ 84,  76,  69]],\n",
              "   \n",
              "          [[ 75,  66,  62],\n",
              "           [ 75,  66,  62],\n",
              "           [ 74,  65,  61],\n",
              "           ...,\n",
              "           [ 84,  76,  69],\n",
              "           [ 84,  76,  69],\n",
              "           [ 84,  76,  69]],\n",
              "   \n",
              "          [[ 75,  66,  62],\n",
              "           [ 75,  66,  62],\n",
              "           [ 74,  65,  61],\n",
              "           ...,\n",
              "           [ 84,  76,  69],\n",
              "           [ 84,  76,  69],\n",
              "           [ 84,  76,  69]]], dtype=uint8),\n",
              "   'prediction_type': 'ObjectDetectionModel'},\n",
              "  {'x': 115.5,\n",
              "   'y': 348.0,\n",
              "   'width': 103.0,\n",
              "   'height': 224.0,\n",
              "   'confidence': 0.8767901062965393,\n",
              "   'class': '6',\n",
              "   'image_path': array([[[188, 184, 182],\n",
              "           [188, 184, 182],\n",
              "           [188, 184, 182],\n",
              "           ...,\n",
              "           [143, 126,  92],\n",
              "           [132, 114,  80],\n",
              "           [132, 114,  80]],\n",
              "   \n",
              "          [[188, 184, 182],\n",
              "           [188, 184, 182],\n",
              "           [188, 184, 182],\n",
              "           ...,\n",
              "           [143, 126,  92],\n",
              "           [132, 114,  80],\n",
              "           [132, 114,  80]],\n",
              "   \n",
              "          [[188, 184, 182],\n",
              "           [188, 184, 182],\n",
              "           [188, 184, 182],\n",
              "           ...,\n",
              "           [143, 126,  92],\n",
              "           [132, 114,  80],\n",
              "           [132, 114,  80]],\n",
              "   \n",
              "          ...,\n",
              "   \n",
              "          [[ 75,  66,  62],\n",
              "           [ 75,  66,  62],\n",
              "           [ 74,  65,  61],\n",
              "           ...,\n",
              "           [ 84,  76,  69],\n",
              "           [ 84,  76,  69],\n",
              "           [ 84,  76,  69]],\n",
              "   \n",
              "          [[ 75,  66,  62],\n",
              "           [ 75,  66,  62],\n",
              "           [ 74,  65,  61],\n",
              "           ...,\n",
              "           [ 84,  76,  69],\n",
              "           [ 84,  76,  69],\n",
              "           [ 84,  76,  69]],\n",
              "   \n",
              "          [[ 75,  66,  62],\n",
              "           [ 75,  66,  62],\n",
              "           [ 74,  65,  61],\n",
              "           ...,\n",
              "           [ 84,  76,  69],\n",
              "           [ 84,  76,  69],\n",
              "           [ 84,  76,  69]]], dtype=uint8),\n",
              "   'prediction_type': 'ObjectDetectionModel'},\n",
              "  {'x': 167.5,\n",
              "   'y': 341.0,\n",
              "   'width': 81.0,\n",
              "   'height': 206.0,\n",
              "   'confidence': 0.8336422443389893,\n",
              "   'class': '7',\n",
              "   'image_path': array([[[188, 184, 182],\n",
              "           [188, 184, 182],\n",
              "           [188, 184, 182],\n",
              "           ...,\n",
              "           [143, 126,  92],\n",
              "           [132, 114,  80],\n",
              "           [132, 114,  80]],\n",
              "   \n",
              "          [[188, 184, 182],\n",
              "           [188, 184, 182],\n",
              "           [188, 184, 182],\n",
              "           ...,\n",
              "           [143, 126,  92],\n",
              "           [132, 114,  80],\n",
              "           [132, 114,  80]],\n",
              "   \n",
              "          [[188, 184, 182],\n",
              "           [188, 184, 182],\n",
              "           [188, 184, 182],\n",
              "           ...,\n",
              "           [143, 126,  92],\n",
              "           [132, 114,  80],\n",
              "           [132, 114,  80]],\n",
              "   \n",
              "          ...,\n",
              "   \n",
              "          [[ 75,  66,  62],\n",
              "           [ 75,  66,  62],\n",
              "           [ 74,  65,  61],\n",
              "           ...,\n",
              "           [ 84,  76,  69],\n",
              "           [ 84,  76,  69],\n",
              "           [ 84,  76,  69]],\n",
              "   \n",
              "          [[ 75,  66,  62],\n",
              "           [ 75,  66,  62],\n",
              "           [ 74,  65,  61],\n",
              "           ...,\n",
              "           [ 84,  76,  69],\n",
              "           [ 84,  76,  69],\n",
              "           [ 84,  76,  69]],\n",
              "   \n",
              "          [[ 75,  66,  62],\n",
              "           [ 75,  66,  62],\n",
              "           [ 74,  65,  61],\n",
              "           ...,\n",
              "           [ 84,  76,  69],\n",
              "           [ 84,  76,  69],\n",
              "           [ 84,  76,  69]]], dtype=uint8),\n",
              "   'prediction_type': 'ObjectDetectionModel'},\n",
              "  {'x': 425.0,\n",
              "   'y': 321.0,\n",
              "   'width': 68.0,\n",
              "   'height': 196.0,\n",
              "   'confidence': 0.8125976920127869,\n",
              "   'class': 'm',\n",
              "   'image_path': array([[[188, 184, 182],\n",
              "           [188, 184, 182],\n",
              "           [188, 184, 182],\n",
              "           ...,\n",
              "           [143, 126,  92],\n",
              "           [132, 114,  80],\n",
              "           [132, 114,  80]],\n",
              "   \n",
              "          [[188, 184, 182],\n",
              "           [188, 184, 182],\n",
              "           [188, 184, 182],\n",
              "           ...,\n",
              "           [143, 126,  92],\n",
              "           [132, 114,  80],\n",
              "           [132, 114,  80]],\n",
              "   \n",
              "          [[188, 184, 182],\n",
              "           [188, 184, 182],\n",
              "           [188, 184, 182],\n",
              "           ...,\n",
              "           [143, 126,  92],\n",
              "           [132, 114,  80],\n",
              "           [132, 114,  80]],\n",
              "   \n",
              "          ...,\n",
              "   \n",
              "          [[ 75,  66,  62],\n",
              "           [ 75,  66,  62],\n",
              "           [ 74,  65,  61],\n",
              "           ...,\n",
              "           [ 84,  76,  69],\n",
              "           [ 84,  76,  69],\n",
              "           [ 84,  76,  69]],\n",
              "   \n",
              "          [[ 75,  66,  62],\n",
              "           [ 75,  66,  62],\n",
              "           [ 74,  65,  61],\n",
              "           ...,\n",
              "           [ 84,  76,  69],\n",
              "           [ 84,  76,  69],\n",
              "           [ 84,  76,  69]],\n",
              "   \n",
              "          [[ 75,  66,  62],\n",
              "           [ 75,  66,  62],\n",
              "           [ 74,  65,  61],\n",
              "           ...,\n",
              "           [ 84,  76,  69],\n",
              "           [ 84,  76,  69],\n",
              "           [ 84,  76,  69]]], dtype=uint8),\n",
              "   'prediction_type': 'ObjectDetectionModel'},\n",
              "  {'x': 350.0,\n",
              "   'y': 322.0,\n",
              "   'width': 90.0,\n",
              "   'height': 176.0,\n",
              "   'confidence': 0.8225094079971313,\n",
              "   'class': 'y',\n",
              "   'image_path': array([[[188, 184, 182],\n",
              "           [188, 184, 182],\n",
              "           [188, 184, 182],\n",
              "           ...,\n",
              "           [143, 126,  92],\n",
              "           [132, 114,  80],\n",
              "           [132, 114,  80]],\n",
              "   \n",
              "          [[188, 184, 182],\n",
              "           [188, 184, 182],\n",
              "           [188, 184, 182],\n",
              "           ...,\n",
              "           [143, 126,  92],\n",
              "           [132, 114,  80],\n",
              "           [132, 114,  80]],\n",
              "   \n",
              "          [[188, 184, 182],\n",
              "           [188, 184, 182],\n",
              "           [188, 184, 182],\n",
              "           ...,\n",
              "           [143, 126,  92],\n",
              "           [132, 114,  80],\n",
              "           [132, 114,  80]],\n",
              "   \n",
              "          ...,\n",
              "   \n",
              "          [[ 75,  66,  62],\n",
              "           [ 75,  66,  62],\n",
              "           [ 74,  65,  61],\n",
              "           ...,\n",
              "           [ 84,  76,  69],\n",
              "           [ 84,  76,  69],\n",
              "           [ 84,  76,  69]],\n",
              "   \n",
              "          [[ 75,  66,  62],\n",
              "           [ 75,  66,  62],\n",
              "           [ 74,  65,  61],\n",
              "           ...,\n",
              "           [ 84,  76,  69],\n",
              "           [ 84,  76,  69],\n",
              "           [ 84,  76,  69]],\n",
              "   \n",
              "          [[ 75,  66,  62],\n",
              "           [ 75,  66,  62],\n",
              "           [ 74,  65,  61],\n",
              "           ...,\n",
              "           [ 84,  76,  69],\n",
              "           [ 84,  76,  69],\n",
              "           [ 84,  76,  69]]], dtype=uint8),\n",
              "   'prediction_type': 'ObjectDetectionModel'}],\n",
              " 'image': {'width': 512, 'height': 512}}"
            ]
          },
          "metadata": {},
          "execution_count": 17
        }
      ]
    },
    {
      "cell_type": "code",
      "source": [
        "def r (oo):\n",
        "    if vv == \"a\" :\n",
        "      print(\"أ\")\n",
        "    if vv == \"kk\" :\n",
        "      print(\"ق\")\n",
        "    if vv == \"ss\" :\n",
        "      print(\"ص\")\n",
        "    if vv == \"s\" :\n",
        "      print(\"س\")\n",
        "    if vv == \"tt\" :\n",
        "      print(\"ط\")\n",
        "    if vv == \"o\" :\n",
        "      print(\"ع\")\n",
        "    if vv == \"l\" :\n",
        "      print(\"ل\")\n",
        "    if vv == \"r\" :\n",
        "      print(\"ر\")\n",
        "    if vv == \"n\" :\n",
        "      print(\"ن\")\n",
        "    if vv == 'm' :\n",
        "      print(\"م\")\n",
        "    if vv == \"00\" :\n",
        "      print(\"ه\")\n",
        "    if vv == \"w\" :\n",
        "      print(\"و\")\n",
        "    if vv == \"y\" :\n",
        "      print(\"ى\")\n",
        "    if vv == \"g\" :\n",
        "      print(\"ج\")\n",
        "    if vv == \"d\" :\n",
        "      print(\"د\")\n",
        "    if vv == \"f\" :\n",
        "      print(\"ف\")\n",
        "    if vv == \"1\" :\n",
        "      print(\"١\")\n",
        "    if vv == \"2\" :\n",
        "      print(\"٢\")\n",
        "    if vv == \"3\" :\n",
        "      print(\"٣\")\n",
        "    if vv == \"4\" :\n",
        "      print(\"٤\")\n",
        "    if vv == \"5\" :\n",
        "      print(\"٥\")\n",
        "    if vv == \"6\" :\n",
        "      print(\"٦\")\n",
        "    if vv == \"7\" :\n",
        "      print(\"٧\")\n",
        "    if vv == \"8\" :\n",
        "      print(\"٨\")\n",
        "    if vv == \"9\" :\n",
        "      print(\"٩\")\n",
        "    if vv == \"0\" :\n",
        "      print(\"٠\")"
      ],
      "metadata": {
        "id": "MxfdmWVoeLXs"
      },
      "execution_count": null,
      "outputs": []
    },
    {
      "cell_type": "code",
      "source": [],
      "metadata": {
        "id": "fXutIQOysv01"
      },
      "execution_count": null,
      "outputs": []
    },
    {
      "cell_type": "code",
      "source": [],
      "metadata": {
        "id": "_KTBiQ6AsvvD"
      },
      "execution_count": null,
      "outputs": []
    },
    {
      "cell_type": "code",
      "source": [
        "v = result2.values()\n",
        "o = result2.get('class')\n",
        "z = result2.get('predictions')\n",
        "\n",
        "zz = []\n",
        "\n",
        "for i in range(6):\n",
        "  \n",
        "  # print(z[i].get('class'))\n",
        "  vv = z[i].get('class')\n",
        "  r(vv)\n",
        "  zz.append(str(vv))\n",
        "for mm in range(len(zz)):\n",
        "  with open(\"file.txt\", \"w\") as output:\n",
        "    output.write(str(zz))"
      ],
      "metadata": {
        "id": "Rj3Tte7Te9Ad",
        "colab": {
          "base_uri": "https://localhost:8080/"
        },
        "outputId": "34c91662-e410-41d5-fd53-be18cd698c5a"
      },
      "execution_count": null,
      "outputs": [
        {
          "output_type": "stream",
          "name": "stdout",
          "text": [
            "٤\n",
            "٥\n",
            "٦\n",
            "٧\n",
            "م\n",
            "ى\n"
          ]
        }
      ]
    },
    {
      "cell_type": "code",
      "source": [
        "print(\"٥ ٦ ٧ ٤ م ى\")"
      ],
      "metadata": {
        "colab": {
          "base_uri": "https://localhost:8080/"
        },
        "id": "Ydp1JERXswyt",
        "outputId": "9301218b-c974-424d-ea80-b35209174328"
      },
      "execution_count": null,
      "outputs": [
        {
          "output_type": "stream",
          "name": "stdout",
          "text": [
            "٥ ٦ ٧ ٤ م ى\n"
          ]
        }
      ]
    },
    {
      "cell_type": "code",
      "source": [],
      "metadata": {
        "id": "WKJNdT9DswvE"
      },
      "execution_count": null,
      "outputs": []
    }
  ]
}